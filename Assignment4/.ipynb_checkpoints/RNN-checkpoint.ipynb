{
 "cells": [
  {
   "cell_type": "code",
   "execution_count": 1,
   "metadata": {},
   "outputs": [],
   "source": [
    "import torch\n",
    "import numpy as np"
   ]
  },
  {
   "cell_type": "code",
   "execution_count": null,
   "metadata": {},
   "outputs": [],
   "source": [
    "class RNN():\n",
    "    #model parameters\n",
    "    Wxh = torch.randn(hidden_size, seq_length)*0.01         #Input to hidden\n",
    "    Whh = torch.randn(hidden_size, hidden_size)*0.01        #Hidden to itself\n",
    "    Why = torch.randn(seq_length, hidden_size)*0.01         #Hidden to output\n",
    "    Bh =  torch.zeros(hidden_size, 1)                       #Hidden Bias\n",
    "    By =  torch.zeros(seq_lenth, 1)                         #Output Bias\n",
    "    \n",
    "    \n",
    "    def __init__(self, input_size, hidden_size, output_size):\n",
    "        super(RNN, self).__init__()\n",
    "        self.hidden_size = hidden_size\n",
    "        self.xs = {}                                       #will store encoded input\n",
    "        self.hs = {}                                       #Store hidden state output\n",
    "        self.ys = {}                                       #Store output\n",
    "        self.ps = {}                                       #Probabilities of next character\n",
    "    \n",
    "\n",
    "    "
   ]
  },
  {
   "cell_type": "code",
   "execution_count": null,
   "metadata": {},
   "outputs": [],
   "source": []
  }
 ],
 "metadata": {
  "kernelspec": {
   "display_name": "Python 3",
   "language": "python",
   "name": "python3"
  },
  "language_info": {
   "codemirror_mode": {
    "name": "ipython",
    "version": 3
   },
   "file_extension": ".py",
   "mimetype": "text/x-python",
   "name": "python",
   "nbconvert_exporter": "python",
   "pygments_lexer": "ipython3",
   "version": "3.6.5"
  }
 },
 "nbformat": 4,
 "nbformat_minor": 2
}
