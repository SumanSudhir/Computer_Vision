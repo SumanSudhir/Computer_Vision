{
 "cells": [
  {
   "cell_type": "code",
   "execution_count": 27,
   "metadata": {},
   "outputs": [],
   "source": [
    "import torch\n",
    "import numpy as np"
   ]
  },
  {
   "cell_type": "code",
   "execution_count": 17,
   "metadata": {},
   "outputs": [
    {
     "name": "stdout",
     "output_type": "stream",
     "text": [
      "1504959 12\n"
     ]
    }
   ],
   "source": [
    "data = open(\"train_data.txt\", \"r\").read()\n",
    "\n",
    "chars = list(set(data))\n",
    "\n",
    "data_size, vocab_size = len(data), len(chars)\n",
    "\n",
    "print(data_size, vocab_size)"
   ]
  },
  {
   "cell_type": "code",
   "execution_count": 15,
   "metadata": {},
   "outputs": [
    {
     "data": {
      "text/plain": [
       "['5', '3', '0', '9', '1', '8', '4', '\\n', '2', '7', '6', ' ']"
      ]
     },
     "execution_count": 15,
     "metadata": {},
     "output_type": "execute_result"
    }
   ],
   "source": [
    "chars"
   ]
  },
  {
   "cell_type": "code",
   "execution_count": 25,
   "metadata": {},
   "outputs": [
    {
     "name": "stdout",
     "output_type": "stream",
     "text": [
      "{0: '5', 1: '3', 2: '0', 3: '9', 4: '1', 5: '8', 6: '4', 7: '\\n', 8: '2', 9: '7', 10: '6', 11: ' '}\n"
     ]
    }
   ],
   "source": [
    "ix_to_char = {i:ch for i,ch in enumerate(chars)}\n",
    "\n",
    "print(ix_to_char)"
   ]
  },
  {
   "cell_type": "code",
   "execution_count": null,
   "metadata": {},
   "outputs": [],
   "source": [
    "vectors_for  "
   ]
  },
  {
   "cell_type": "code",
   "execution_count": 29,
   "metadata": {},
   "outputs": [],
   "source": [
    "#Hyper Parameters\n",
    "  \n",
    "hidden_size = 100\n",
    "sequence_length = 25\n",
    "learning_rate = 1e-1\n"
   ]
  },
  {
   "cell_type": "code",
   "execution_count": 32,
   "metadata": {},
   "outputs": [],
   "source": [
    "Wxh = torch.randn(hidden_size, vocab_size)*0.01         #Input to hidden\n",
    "Whh = torch.randn(hidden_size, hidden_size)*0.01        #Hidden to itself\n",
    "Why = torch.randn(vocab_size, hidden_size)*0.01         #Hidden to output\n",
    "bh =  torch.zeros(hidden_size, 1)                       #Hidden Bias\n",
    "by =  torch.zeros(vocab_size, 1)   "
   ]
  },
  {
   "cell_type": "code",
   "execution_count": null,
   "metadata": {},
   "outputs": [],
   "source": []
  }
 ],
 "metadata": {
  "kernelspec": {
   "display_name": "Python 3",
   "language": "python",
   "name": "python3"
  },
  "language_info": {
   "codemirror_mode": {
    "name": "ipython",
    "version": 3
   },
   "file_extension": ".py",
   "mimetype": "text/x-python",
   "name": "python",
   "nbconvert_exporter": "python",
   "pygments_lexer": "ipython3",
   "version": "3.6.5"
  }
 },
 "nbformat": 4,
 "nbformat_minor": 2
}
